{
  "nbformat": 4,
  "nbformat_minor": 0,
  "metadata": {
    "colab": {
      "provenance": [],
      "gpuType": "T4"
    },
    "kernelspec": {
      "name": "python3",
      "display_name": "Python 3"
    },
    "language_info": {
      "name": "python"
    },
    "accelerator": "GPU"
  },
  "cells": [
    {
      "cell_type": "markdown",
      "source": [
        "# Optimizer with Momentum and Sign: A Benchmark Test\n",
        "\n",
        "In this notebook, we implement and test the optimizer with \"Momentum and Sign\" (\"mas\" for short). It is compared with the state-of-the-art optimizer Adam, and others like SGD and Adagrad."
      ],
      "metadata": {
        "id": "WrN82bnjJuSi"
      }
    },
    {
      "cell_type": "code",
      "execution_count": 1,
      "metadata": {
        "id": "7numT8GjmaLo"
      },
      "outputs": [],
      "source": [
        "import numpy as np\n",
        "import tensorflow as tf\n",
        "import matplotlib.pyplot as plt\n",
        "\n",
        "# For reproducibility\n",
        "tf.random.set_seed(42)\n",
        "tf.config.experimental.enable_op_determinism()"
      ]
    },
    {
      "cell_type": "markdown",
      "source": [
        "Here, we implement the optimizer by TensorFlow. In this implementation , there are plenty of things to be optimized but we keep it simple."
      ],
      "metadata": {
        "id": "b1djkhoVKbnB"
      }
    },
    {
      "cell_type": "code",
      "source": [
        "class Mas:\n",
        "    \"\"\"A simple TensorFlow implementation of optimizer with \"Momentum and Sign\".\n",
        "    The build method first adds slots for momentum. Then, the apply_gradients\n",
        "    method updates the variables with the same signature as the other optimizers\n",
        "    in TensorFlow.\n",
        "\n",
        "    Args:\n",
        "        learning_rate (float):\n",
        "            The usual learning rate. We shall make it smaller when decay rate\n",
        "            is bigger. Default to 2e-4.\n",
        "        decay_factor (float):\n",
        "            The decay factor for momentum. Default to 0.95.\n",
        "    \"\"\"\n",
        "\n",
        "    def __init__(self, learning_rate=2e-4, decay_factor=0.95):\n",
        "        self.learning_rate = learning_rate\n",
        "        self.decay_factor = decay_factor\n",
        "\n",
        "    def build(self, variable_shapes):\n",
        "        self.momenta = []\n",
        "        for shape in variable_shapes:\n",
        "            v = tf.Variable(tf.zeros(shape))\n",
        "            self.momenta.append(v)\n",
        "        return self\n",
        "\n",
        "    def apply_gradients(self, grads_and_vars):\n",
        "        for i, (grad, var) in enumerate(grads_and_vars):\n",
        "            self.momenta[i] = self.decay_factor * self.momenta[i] + (1-self.decay_factor) * grad\n",
        "            var.assign_sub(self.learning_rate * tf.math.sign(self.momenta[i]))\n",
        "\n",
        "\n",
        "def get_variable_shapes(model):\n",
        "    return [var.shape for var in model.variables]"
      ],
      "metadata": {
        "id": "EblEBHJgoXt6"
      },
      "execution_count": 2,
      "outputs": []
    },
    {
      "cell_type": "markdown",
      "source": [
        "Then, we download and preprocess the dataset. We use MNIST (or fashion-MNIST) for the benchmark test."
      ],
      "metadata": {
        "id": "rDOyfQh8KvEV"
      }
    },
    {
      "cell_type": "code",
      "source": [
        "# Preprocess MNIST\n",
        "# mnist = tf.keras.datasets.mnist\n",
        "mnist = tf.keras.datasets.fashion_mnist\n",
        "(x_train, y_train), _ = mnist.load_data()\n",
        "x_train = x_train.astype('float32')\n",
        "x_train = x_train.reshape([-1, 28, 28, 1])  # add channel axis.\n",
        "x_train = x_train / 255.0\n",
        "y_train = y_train.astype('int32')\n",
        "\n",
        "# Convert to dataset\n",
        "ds_train = tf.data.Dataset.from_tensor_slices((x_train, y_train))\n",
        "ds_train = ds_train.batch(64)"
      ],
      "metadata": {
        "colab": {
          "base_uri": "https://localhost:8080/"
        },
        "id": "2SBVxct1mtmV",
        "outputId": "a3da4c0c-ec14-41da-d37e-24ed35a5bfc1"
      },
      "execution_count": 3,
      "outputs": [
        {
          "output_type": "stream",
          "name": "stdout",
          "text": [
            "Downloading data from https://storage.googleapis.com/tensorflow/tf-keras-datasets/train-labels-idx1-ubyte.gz\n",
            "\u001b[1m29515/29515\u001b[0m \u001b[32m━━━━━━━━━━━━━━━━━━━━\u001b[0m\u001b[37m\u001b[0m \u001b[1m0s\u001b[0m 0us/step\n",
            "Downloading data from https://storage.googleapis.com/tensorflow/tf-keras-datasets/train-images-idx3-ubyte.gz\n",
            "\u001b[1m26421880/26421880\u001b[0m \u001b[32m━━━━━━━━━━━━━━━━━━━━\u001b[0m\u001b[37m\u001b[0m \u001b[1m0s\u001b[0m 0us/step\n",
            "Downloading data from https://storage.googleapis.com/tensorflow/tf-keras-datasets/t10k-labels-idx1-ubyte.gz\n",
            "\u001b[1m5148/5148\u001b[0m \u001b[32m━━━━━━━━━━━━━━━━━━━━\u001b[0m\u001b[37m\u001b[0m \u001b[1m0s\u001b[0m 1us/step\n",
            "Downloading data from https://storage.googleapis.com/tensorflow/tf-keras-datasets/t10k-images-idx3-ubyte.gz\n",
            "\u001b[1m4422102/4422102\u001b[0m \u001b[32m━━━━━━━━━━━━━━━━━━━━\u001b[0m\u001b[37m\u001b[0m \u001b[1m0s\u001b[0m 0us/step\n"
          ]
        }
      ]
    },
    {
      "cell_type": "markdown",
      "source": [
        "Two models are employed in our benchmark test. We first consider a simple feed-forward network with ReLU activation. And then a simple convolutional network."
      ],
      "metadata": {
        "id": "Z66w0P_FK4u0"
      }
    },
    {
      "cell_type": "code",
      "source": [
        "# Feed-forward netowrk\n",
        "init_ffd = tf.keras.Sequential([\n",
        "    tf.keras.layers.Flatten(),\n",
        "    tf.keras.layers.Dense(128, 'relu'),\n",
        "    tf.keras.layers.Dense(64, 'relu'),\n",
        "    tf.keras.layers.Dense(10),\n",
        "])\n",
        "\n",
        "# Convolutional network\n",
        "init_cnn = tf.keras.Sequential([\n",
        "    tf.keras.layers.Conv2D(32, 3),\n",
        "    tf.keras.layers.ReLU(),\n",
        "    tf.keras.layers.Conv2D(64, 3),\n",
        "    tf.keras.layers.ReLU(),\n",
        "    tf.keras.layers.MaxPool2D((2, 2)),\n",
        "    tf.keras.layers.Flatten(),\n",
        "    tf.keras.layers.Dense(128, 'relu'),\n",
        "    tf.keras.layers.Dense(10),\n",
        "])\n",
        "\n",
        "# Build the models\n",
        "x_batch = tf.random.uniform([128, 28, 28, 1])\n",
        "init_ffd(x_batch)\n",
        "init_cnn(x_batch)\n",
        "\n",
        "\n",
        "def get_num_params(model):\n",
        "    num_params = 0\n",
        "    for v in model.variables:\n",
        "        num_params += tf.reduce_prod(tf.shape(v)).numpy()\n",
        "    return num_params\n",
        "\n",
        "\n",
        "get_num_params(init_ffd), get_num_params(init_cnn)"
      ],
      "metadata": {
        "colab": {
          "base_uri": "https://localhost:8080/"
        },
        "id": "U4LqSo08mwe0",
        "outputId": "ad5aef56-8d81-4134-f7cd-bb04edf8342b"
      },
      "execution_count": 4,
      "outputs": [
        {
          "output_type": "execute_result",
          "data": {
            "text/plain": [
              "(109386, 1199882)"
            ]
          },
          "metadata": {},
          "execution_count": 4
        }
      ]
    },
    {
      "cell_type": "markdown",
      "source": [
        "Then functions for training the models."
      ],
      "metadata": {
        "id": "mLexlhnzLPxz"
      }
    },
    {
      "cell_type": "code",
      "source": [
        "def cross_entropy_loss(logits, labels):\n",
        "    \"\"\"Compute cross entropy loss with a sparse operation.\"\"\"\n",
        "    loss_per_sample = tf.nn.sparse_softmax_cross_entropy_with_logits(\n",
        "        logits=logits, labels=labels)\n",
        "    return tf.reduce_mean(loss_per_sample)\n",
        "\n",
        "\n",
        "def train_step(model, optimizer, x_batch, y_batch):\n",
        "    with tf.GradientTape() as tape:\n",
        "        y_pred = model(x_batch)\n",
        "        loss_batch = cross_entropy_loss(y_pred, y_batch)\n",
        "    grads = tape.gradient(loss_batch, model.variables)\n",
        "    optimizer.apply_gradients(zip(grads, model.variables))\n",
        "    return loss_batch\n",
        "\n",
        "\n",
        "def train(model, optimizer, dataset, epochs):\n",
        "    loss_values = []\n",
        "    for epoch in range(epochs):\n",
        "        ds_iter = dataset.as_numpy_iterator()\n",
        "        while True:\n",
        "            try:\n",
        "                x_batch, y_batch = next(ds_iter)\n",
        "            except StopIteration:\n",
        "                break\n",
        "            loss_batch = train_step(model, optimizer, x_batch, y_batch)\n",
        "            loss_values.append(loss_batch.numpy())\n",
        "            if np.isnan(loss_values[-1]):\n",
        "                raise ValueError('NaN')\n",
        "    return loss_values"
      ],
      "metadata": {
        "id": "b5fuOKh_nS3_"
      },
      "execution_count": 5,
      "outputs": []
    },
    {
      "cell_type": "markdown",
      "source": [
        "Each model is first cloned before training. In this way, the comparison is made on the same model, with the same initial values of variable."
      ],
      "metadata": {
        "id": "SCMR3DwQLZUU"
      }
    },
    {
      "cell_type": "code",
      "source": [
        "def clone_model(model):\n",
        "    new_model = tf.keras.models.clone_model(model)\n",
        "    for i, var in enumerate(model.variables):\n",
        "        new_model.variables[i].assign(var)\n",
        "    return new_model"
      ],
      "metadata": {
        "id": "1QWAZ2WELZ5j"
      },
      "execution_count": 6,
      "outputs": []
    },
    {
      "cell_type": "markdown",
      "source": [
        "And for better visualization, we use moving average to make the training loss smooth."
      ],
      "metadata": {
        "id": "y6_h1L3ULXBQ"
      }
    },
    {
      "cell_type": "code",
      "source": [
        "def moving_average(values, decay_factor=0.95):\n",
        "    avgs = []\n",
        "    for value in values:\n",
        "        if not avgs:\n",
        "            avgs.append(value)\n",
        "        else:\n",
        "            avgs.append(decay_factor*avgs[-1] + (1-decay_factor)*value)\n",
        "    return avgs"
      ],
      "metadata": {
        "id": "aH43bhurLXoO"
      },
      "execution_count": 7,
      "outputs": []
    },
    {
      "cell_type": "markdown",
      "source": [
        "With all the preparations, we start benchmark test, on feed-forward network."
      ],
      "metadata": {
        "id": "bxQwTenrL4LT"
      }
    },
    {
      "cell_type": "code",
      "source": [
        "sgd_loss_values = train(\n",
        "    clone_model(init_ffd),\n",
        "    tf.keras.optimizers.SGD(),\n",
        "    ds_train,\n",
        "    epochs=5)\n",
        "plt.plot(moving_average(sgd_loss_values), label='SGD', alpha=0.5)\n",
        "\n",
        "adagrad_loss_values = train(\n",
        "    clone_model(init_ffd),\n",
        "    tf.keras.optimizers.Adagrad(),\n",
        "    ds_train,\n",
        "    epochs=5)\n",
        "plt.plot(moving_average(adagrad_loss_values), label='Adagrad', alpha=0.5)\n",
        "\n",
        "adam_loss_values = train(\n",
        "    clone_model(init_ffd),\n",
        "    tf.keras.optimizers.Adam(),\n",
        "    ds_train,\n",
        "    epochs=5)\n",
        "plt.plot(moving_average(adam_loss_values), label='Adam', alpha=0.5)\n",
        "\n",
        "mas_loss_values = train(\n",
        "    clone_model(init_ffd),\n",
        "    Mas().build(get_variable_shapes(init_ffd)),\n",
        "    ds_train,\n",
        "    epochs=5)\n",
        "plt.plot(moving_average(mas_loss_values), label='Mas', alpha=0.5)\n",
        "\n",
        "plt.legend()\n",
        "plt.xlabel('training steps')\n",
        "plt.ylabel('training loss')\n",
        "plt.grid()\n",
        "plt.title('Benchmark Test on Feed-forward Network')\n",
        "plt.show()"
      ],
      "metadata": {
        "colab": {
          "base_uri": "https://localhost:8080/",
          "height": 472
        },
        "id": "jkrx37xWnmKW",
        "outputId": "6c5d77fc-d574-47fa-cce2-0d0fa3ea8f60"
      },
      "execution_count": 10,
      "outputs": [
        {
          "output_type": "display_data",
          "data": {
            "text/plain": [
              "<Figure size 640x480 with 1 Axes>"
            ],
            "image/png": "[encoded data removed]"
          },
          "metadata": {}
        }
      ]
    },
    {
      "cell_type": "markdown",
      "source": [
        "Then on convolutional network."
      ],
      "metadata": {
        "id": "rIzdRRlUMBRe"
      }
    },
    {
      "cell_type": "code",
      "source": [
        "sgd_loss_values = train(\n",
        "    clone_model(init_cnn),\n",
        "    tf.keras.optimizers.SGD(),\n",
        "    ds_train,\n",
        "    epochs=5)\n",
        "plt.plot(moving_average(sgd_loss_values), label='SGD', alpha=0.5)\n",
        "\n",
        "adagrad_loss_values = train(\n",
        "    clone_model(init_cnn),\n",
        "    tf.keras.optimizers.Adagrad(),\n",
        "    ds_train,\n",
        "    epochs=5)\n",
        "plt.plot(moving_average(adagrad_loss_values), label='Adagrad', alpha=0.5)\n",
        "\n",
        "adam_loss_values = train(\n",
        "    clone_model(init_cnn),\n",
        "    tf.keras.optimizers.Adam(),\n",
        "    ds_train,\n",
        "    epochs=5)\n",
        "plt.plot(moving_average(adam_loss_values), label='Adam', alpha=0.5)\n",
        "\n",
        "mas_loss_values = train(\n",
        "    clone_model(init_cnn),\n",
        "    Mas().build(get_variable_shapes(init_cnn)),\n",
        "    ds_train,\n",
        "    epochs=5)\n",
        "plt.plot(moving_average(mas_loss_values), label='Mas', alpha=0.5)\n",
        "\n",
        "plt.legend()\n",
        "plt.xlabel('training steps')\n",
        "plt.ylabel('training loss')\n",
        "plt.grid()\n",
        "plt.title('Benchmark Test on Convolutional Network')\n",
        "plt.show()"
      ],
      "metadata": {
        "id": "g00EI-ResAGw"
      },
      "execution_count": null,
      "outputs": []
    },
    {
      "cell_type": "markdown",
      "source": [
        "For both feed-forward network and convolutional network, the training loss of Adam is almost the same as that of Masog. So, Masog performs as good as Adam."
      ],
      "metadata": {
        "id": "h7x3Yk6tMDyE"
      }
    },
    {
      "cell_type": "markdown",
      "source": [
        "In the end, we explore the effect of decay factor. To do so, we plot the training loss for different value of decay factor."
      ],
      "metadata": {
        "id": "Zwi9viQUMjrH"
      }
    },
    {
      "cell_type": "code",
      "source": [
        "decay_factors = (0.01, 0.5, 0.99)\n",
        "for decay_factor in decay_factors:\n",
        "    loss_values = train(\n",
        "        clone_model(init_ffd),\n",
        "        Mas(decay_factor=decay_factor).build(get_variable_shapes(init_ffd)),\n",
        "        ds_train,\n",
        "        epochs=5)\n",
        "    plt.plot(moving_average(loss_values),\n",
        "             label=f'{decay_factor:.2f}', alpha=0.7)\n",
        "plt.legend()\n",
        "plt.grid()\n",
        "plt.title('Effect of Decay Factor')\n",
        "plt.show()"
      ],
      "metadata": {
        "id": "ekgC29NisPlu"
      },
      "execution_count": null,
      "outputs": []
    },
    {
      "cell_type": "markdown",
      "source": [
        "We find that the greater value of decay factor furnishes a better performance. This is consistent with our analysis that decay factor can reduce the stochastic disturbance and, thus, speed up the optimization."
      ],
      "metadata": {
        "id": "2043rTnMMt7f"
      }
    },
    {
      "cell_type": "code",
      "source": [
        "!pip list"
      ],
      "metadata": {
        "id": "eFbLVEdhYQHl"
      },
      "execution_count": null,
      "outputs": []
    },
    {
      "cell_type": "code",
      "source": [],
      "metadata": {
        "id": "Fo1xGE1yYRUM"
      },
      "execution_count": null,
      "outputs": []
    }
  ]
}